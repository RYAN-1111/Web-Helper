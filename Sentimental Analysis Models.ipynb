{
 "cells": [
  {
   "cell_type": "code",
   "execution_count": 1,
   "id": "adae561b",
   "metadata": {},
   "outputs": [],
   "source": [
    "import pandas as pd \n",
    "import numpy as np \n",
    "import matplotlib.pyplot as plt\n",
    "from sklearn.model_selection import train_test_split\n",
    "from sklearn.feature_extraction.text import TfidfVectorizer, TfidfTransformer\n",
    "from sklearn.svm import LinearSVC\n",
    "from sklearn.pipeline import Pipeline \n",
    "import seaborn as sns\n",
    "from nltk.sentiment import SentimentIntensityAnalyzer\n",
    "from sklearn.metrics import accuracy_score, precision_score, recall_score, f1_score,classification_report"
   ]
  },
  {
   "cell_type": "code",
   "execution_count": 2,
   "id": "5929983a",
   "metadata": {},
   "outputs": [
    {
     "data": {
      "text/html": [
       "<div>\n",
       "<style scoped>\n",
       "    .dataframe tbody tr th:only-of-type {\n",
       "        vertical-align: middle;\n",
       "    }\n",
       "\n",
       "    .dataframe tbody tr th {\n",
       "        vertical-align: top;\n",
       "    }\n",
       "\n",
       "    .dataframe thead th {\n",
       "        text-align: right;\n",
       "    }\n",
       "</style>\n",
       "<table border=\"1\" class=\"dataframe\">\n",
       "  <thead>\n",
       "    <tr style=\"text-align: right;\">\n",
       "      <th></th>\n",
       "      <th>label</th>\n",
       "      <th>review</th>\n",
       "    </tr>\n",
       "  </thead>\n",
       "  <tbody>\n",
       "    <tr>\n",
       "      <th>0</th>\n",
       "      <td>pos</td>\n",
       "      <td>Stuning even for the non-gamer: This sound tra...</td>\n",
       "    </tr>\n",
       "    <tr>\n",
       "      <th>1</th>\n",
       "      <td>pos</td>\n",
       "      <td>The best soundtrack ever to anything.: I'm rea...</td>\n",
       "    </tr>\n",
       "    <tr>\n",
       "      <th>2</th>\n",
       "      <td>pos</td>\n",
       "      <td>Amazing!: This soundtrack is my favorite music...</td>\n",
       "    </tr>\n",
       "    <tr>\n",
       "      <th>3</th>\n",
       "      <td>pos</td>\n",
       "      <td>Excellent Soundtrack: I truly like this soundt...</td>\n",
       "    </tr>\n",
       "    <tr>\n",
       "      <th>4</th>\n",
       "      <td>pos</td>\n",
       "      <td>Remember, Pull Your Jaw Off The Floor After He...</td>\n",
       "    </tr>\n",
       "  </tbody>\n",
       "</table>\n",
       "</div>"
      ],
      "text/plain": [
       "  label                                             review\n",
       "0   pos  Stuning even for the non-gamer: This sound tra...\n",
       "1   pos  The best soundtrack ever to anything.: I'm rea...\n",
       "2   pos  Amazing!: This soundtrack is my favorite music...\n",
       "3   pos  Excellent Soundtrack: I truly like this soundt...\n",
       "4   pos  Remember, Pull Your Jaw Off The Floor After He..."
      ]
     },
     "execution_count": 2,
     "metadata": {},
     "output_type": "execute_result"
    }
   ],
   "source": [
    "df= pd.read_csv('merged_dataset.csv')\n",
    "df.head()"
   ]
  },
  {
   "cell_type": "code",
   "execution_count": 3,
   "id": "96c4dbe9",
   "metadata": {},
   "outputs": [
    {
     "data": {
      "text/plain": [
       "(20000, 2)"
      ]
     },
     "execution_count": 3,
     "metadata": {},
     "output_type": "execute_result"
    }
   ],
   "source": [
    "# size of the selected dataset\n",
    "df.shape"
   ]
  },
  {
   "cell_type": "code",
   "execution_count": 4,
   "id": "652d6ca2",
   "metadata": {},
   "outputs": [],
   "source": [
    "# Pre-processing the data"
   ]
  },
  {
   "cell_type": "code",
   "execution_count": 5,
   "id": "14564a00",
   "metadata": {},
   "outputs": [],
   "source": [
    "#Removing null values\n",
    "df.isnull().sum()\n",
    "df.dropna(inplace=True)\n",
    "\n",
    "#removing empty strings \n",
    "blanks = [] \n",
    "for i,lb,rv in df.itertuples():  \n",
    "    if type(rv)==str:            \n",
    "        if rv.isspace():         \n",
    "            blanks.append(i)     \n",
    "        \n",
    "df.drop(blanks, inplace=True)\n",
    "\n",
    "#split data-set to train and test\n",
    "X=df['review']\n",
    "y=df['label']\n",
    "X_train, X_test, y_train, y_test = train_test_split(X, y, test_size=0.33, random_state=42)"
   ]
  },
  {
   "cell_type": "markdown",
   "id": "28a4ae57",
   "metadata": {},
   "source": [
    "# Model 1 :- Logistic Regression"
   ]
  },
  {
   "cell_type": "code",
   "execution_count": 6,
   "id": "1751bba8",
   "metadata": {},
   "outputs": [
    {
     "data": {
      "text/html": [
       "<style type=\"text/css\">\n",
       "#T_676a7_row0_col0, #T_676a7_row0_col2, #T_676a7_row1_col1, #T_676a7_row1_col2, #T_676a7_row2_col2, #T_676a7_row2_col3, #T_676a7_row3_col2, #T_676a7_row4_col2 {\n",
       "  background-color: #ebf3eb;\n",
       "  color: #000000;\n",
       "}\n",
       "#T_676a7_row0_col1, #T_676a7_row1_col0, #T_676a7_row2_col0, #T_676a7_row3_col0, #T_676a7_row3_col3, #T_676a7_row4_col0, #T_676a7_row4_col3 {\n",
       "  background-color: #008000;\n",
       "  color: #f1f1f1;\n",
       "}\n",
       "#T_676a7_row0_col3, #T_676a7_row2_col1, #T_676a7_row3_col1, #T_676a7_row4_col1 {\n",
       "  background-color: #75b975;\n",
       "  color: #f1f1f1;\n",
       "}\n",
       "#T_676a7_row1_col3 {\n",
       "  background-color: #76ba76;\n",
       "  color: #f1f1f1;\n",
       "}\n",
       "</style>\n",
       "<table id=\"T_676a7\">\n",
       "  <thead>\n",
       "    <tr>\n",
       "      <th class=\"blank level0\" >&nbsp;</th>\n",
       "      <th id=\"T_676a7_level0_col0\" class=\"col_heading level0 col0\" >precision</th>\n",
       "      <th id=\"T_676a7_level0_col1\" class=\"col_heading level0 col1\" >recall</th>\n",
       "      <th id=\"T_676a7_level0_col2\" class=\"col_heading level0 col2\" >f1-score</th>\n",
       "      <th id=\"T_676a7_level0_col3\" class=\"col_heading level0 col3\" >support</th>\n",
       "    </tr>\n",
       "  </thead>\n",
       "  <tbody>\n",
       "    <tr>\n",
       "      <th id=\"T_676a7_level0_row0\" class=\"row_heading level0 row0\" >neg</th>\n",
       "      <td id=\"T_676a7_row0_col0\" class=\"data row0 col0\" >0.870000</td>\n",
       "      <td id=\"T_676a7_row0_col1\" class=\"data row0 col1\" >0.890000</td>\n",
       "      <td id=\"T_676a7_row0_col2\" class=\"data row0 col2\" >0.880000</td>\n",
       "      <td id=\"T_676a7_row0_col3\" class=\"data row0 col3\" >3316.000000</td>\n",
       "    </tr>\n",
       "    <tr>\n",
       "      <th id=\"T_676a7_level0_row1\" class=\"row_heading level0 row1\" >pos</th>\n",
       "      <td id=\"T_676a7_row1_col0\" class=\"data row1 col0\" >0.880000</td>\n",
       "      <td id=\"T_676a7_row1_col1\" class=\"data row1 col1\" >0.870000</td>\n",
       "      <td id=\"T_676a7_row1_col2\" class=\"data row1 col2\" >0.880000</td>\n",
       "      <td id=\"T_676a7_row1_col3\" class=\"data row1 col3\" >3284.000000</td>\n",
       "    </tr>\n",
       "    <tr>\n",
       "      <th id=\"T_676a7_level0_row2\" class=\"row_heading level0 row2\" >accuracy</th>\n",
       "      <td id=\"T_676a7_row2_col0\" class=\"data row2 col0\" >0.880000</td>\n",
       "      <td id=\"T_676a7_row2_col1\" class=\"data row2 col1\" >0.880000</td>\n",
       "      <td id=\"T_676a7_row2_col2\" class=\"data row2 col2\" >0.880000</td>\n",
       "      <td id=\"T_676a7_row2_col3\" class=\"data row2 col3\" >0.880000</td>\n",
       "    </tr>\n",
       "    <tr>\n",
       "      <th id=\"T_676a7_level0_row3\" class=\"row_heading level0 row3\" >macro avg</th>\n",
       "      <td id=\"T_676a7_row3_col0\" class=\"data row3 col0\" >0.880000</td>\n",
       "      <td id=\"T_676a7_row3_col1\" class=\"data row3 col1\" >0.880000</td>\n",
       "      <td id=\"T_676a7_row3_col2\" class=\"data row3 col2\" >0.880000</td>\n",
       "      <td id=\"T_676a7_row3_col3\" class=\"data row3 col3\" >6600.000000</td>\n",
       "    </tr>\n",
       "    <tr>\n",
       "      <th id=\"T_676a7_level0_row4\" class=\"row_heading level0 row4\" >weighted avg</th>\n",
       "      <td id=\"T_676a7_row4_col0\" class=\"data row4 col0\" >0.880000</td>\n",
       "      <td id=\"T_676a7_row4_col1\" class=\"data row4 col1\" >0.880000</td>\n",
       "      <td id=\"T_676a7_row4_col2\" class=\"data row4 col2\" >0.880000</td>\n",
       "      <td id=\"T_676a7_row4_col3\" class=\"data row4 col3\" >6600.000000</td>\n",
       "    </tr>\n",
       "  </tbody>\n",
       "</table>\n"
      ],
      "text/plain": [
       "<pandas.io.formats.style.Styler at 0x1f654d66790>"
      ]
     },
     "execution_count": 6,
     "metadata": {},
     "output_type": "execute_result"
    }
   ],
   "source": [
    "#Training the model \n",
    "from sklearn.linear_model import LogisticRegression\n",
    "lr_model=Pipeline([('tfidf', TfidfVectorizer(lowercase=False)),( 'clf',LogisticRegression(solver='lbfgs'))])\n",
    "lr_model.fit(X_train,y_train)\n",
    "\n",
    "predictions= lr_model.predict(X_test)\n",
    "report = classification_report(y_test,predictions, output_dict=True)\n",
    "\n",
    "df_report = pd.DataFrame(report).transpose().round(2)\n",
    "\n",
    "cm = sns.light_palette(\"green\", as_cmap=True)\n",
    "df_report.style.background_gradient(cmap=cm)"
   ]
  },
  {
   "cell_type": "markdown",
   "id": "5a29a998",
   "metadata": {},
   "source": [
    "# Model 2 :- Linear SVC"
   ]
  },
  {
   "cell_type": "code",
   "execution_count": 7,
   "id": "fed2ff8d",
   "metadata": {},
   "outputs": [
    {
     "data": {
      "text/html": [
       "<style type=\"text/css\">\n",
       "#T_e74d6_row0_col0, #T_e74d6_row0_col1, #T_e74d6_row0_col2, #T_e74d6_row1_col0, #T_e74d6_row1_col1, #T_e74d6_row1_col2, #T_e74d6_row2_col0, #T_e74d6_row2_col1, #T_e74d6_row2_col2, #T_e74d6_row2_col3, #T_e74d6_row3_col0, #T_e74d6_row3_col1, #T_e74d6_row3_col2, #T_e74d6_row4_col0, #T_e74d6_row4_col1, #T_e74d6_row4_col2 {\n",
       "  background-color: #ebf3eb;\n",
       "  color: #000000;\n",
       "}\n",
       "#T_e74d6_row0_col3 {\n",
       "  background-color: #75b975;\n",
       "  color: #f1f1f1;\n",
       "}\n",
       "#T_e74d6_row1_col3 {\n",
       "  background-color: #76ba76;\n",
       "  color: #f1f1f1;\n",
       "}\n",
       "#T_e74d6_row3_col3, #T_e74d6_row4_col3 {\n",
       "  background-color: #008000;\n",
       "  color: #f1f1f1;\n",
       "}\n",
       "</style>\n",
       "<table id=\"T_e74d6\">\n",
       "  <thead>\n",
       "    <tr>\n",
       "      <th class=\"blank level0\" >&nbsp;</th>\n",
       "      <th id=\"T_e74d6_level0_col0\" class=\"col_heading level0 col0\" >precision</th>\n",
       "      <th id=\"T_e74d6_level0_col1\" class=\"col_heading level0 col1\" >recall</th>\n",
       "      <th id=\"T_e74d6_level0_col2\" class=\"col_heading level0 col2\" >f1-score</th>\n",
       "      <th id=\"T_e74d6_level0_col3\" class=\"col_heading level0 col3\" >support</th>\n",
       "    </tr>\n",
       "  </thead>\n",
       "  <tbody>\n",
       "    <tr>\n",
       "      <th id=\"T_e74d6_level0_row0\" class=\"row_heading level0 row0\" >neg</th>\n",
       "      <td id=\"T_e74d6_row0_col0\" class=\"data row0 col0\" >0.920000</td>\n",
       "      <td id=\"T_e74d6_row0_col1\" class=\"data row0 col1\" >0.920000</td>\n",
       "      <td id=\"T_e74d6_row0_col2\" class=\"data row0 col2\" >0.920000</td>\n",
       "      <td id=\"T_e74d6_row0_col3\" class=\"data row0 col3\" >3316.000000</td>\n",
       "    </tr>\n",
       "    <tr>\n",
       "      <th id=\"T_e74d6_level0_row1\" class=\"row_heading level0 row1\" >pos</th>\n",
       "      <td id=\"T_e74d6_row1_col0\" class=\"data row1 col0\" >0.920000</td>\n",
       "      <td id=\"T_e74d6_row1_col1\" class=\"data row1 col1\" >0.920000</td>\n",
       "      <td id=\"T_e74d6_row1_col2\" class=\"data row1 col2\" >0.920000</td>\n",
       "      <td id=\"T_e74d6_row1_col3\" class=\"data row1 col3\" >3284.000000</td>\n",
       "    </tr>\n",
       "    <tr>\n",
       "      <th id=\"T_e74d6_level0_row2\" class=\"row_heading level0 row2\" >accuracy</th>\n",
       "      <td id=\"T_e74d6_row2_col0\" class=\"data row2 col0\" >0.920000</td>\n",
       "      <td id=\"T_e74d6_row2_col1\" class=\"data row2 col1\" >0.920000</td>\n",
       "      <td id=\"T_e74d6_row2_col2\" class=\"data row2 col2\" >0.920000</td>\n",
       "      <td id=\"T_e74d6_row2_col3\" class=\"data row2 col3\" >0.920000</td>\n",
       "    </tr>\n",
       "    <tr>\n",
       "      <th id=\"T_e74d6_level0_row3\" class=\"row_heading level0 row3\" >macro avg</th>\n",
       "      <td id=\"T_e74d6_row3_col0\" class=\"data row3 col0\" >0.920000</td>\n",
       "      <td id=\"T_e74d6_row3_col1\" class=\"data row3 col1\" >0.920000</td>\n",
       "      <td id=\"T_e74d6_row3_col2\" class=\"data row3 col2\" >0.920000</td>\n",
       "      <td id=\"T_e74d6_row3_col3\" class=\"data row3 col3\" >6600.000000</td>\n",
       "    </tr>\n",
       "    <tr>\n",
       "      <th id=\"T_e74d6_level0_row4\" class=\"row_heading level0 row4\" >weighted avg</th>\n",
       "      <td id=\"T_e74d6_row4_col0\" class=\"data row4 col0\" >0.920000</td>\n",
       "      <td id=\"T_e74d6_row4_col1\" class=\"data row4 col1\" >0.920000</td>\n",
       "      <td id=\"T_e74d6_row4_col2\" class=\"data row4 col2\" >0.920000</td>\n",
       "      <td id=\"T_e74d6_row4_col3\" class=\"data row4 col3\" >6600.000000</td>\n",
       "    </tr>\n",
       "  </tbody>\n",
       "</table>\n"
      ],
      "text/plain": [
       "<pandas.io.formats.style.Styler at 0x1f655026bd0>"
      ]
     },
     "execution_count": 7,
     "metadata": {},
     "output_type": "execute_result"
    }
   ],
   "source": [
    "#training the model\n",
    "my_model=Pipeline([('tfidf', TfidfVectorizer()),('classifier',LinearSVC())])\n",
    "my_model.fit(X_train,y_train)\n",
    "\n",
    "predictions= my_model.predict(X_test)\n",
    "report = classification_report(y_test,predictions, output_dict=True)\n",
    "\n",
    "df_report = pd.DataFrame(report).transpose().round(2)\n",
    "\n",
    "cm = sns.light_palette(\"green\", as_cmap=True)\n",
    "df_report.style.background_gradient(cmap=cm)"
   ]
  },
  {
   "cell_type": "markdown",
   "id": "88f63a2d",
   "metadata": {},
   "source": [
    "# Model 3 :- Vader's Algorithm"
   ]
  },
  {
   "cell_type": "code",
   "execution_count": 8,
   "id": "1e0db0dd",
   "metadata": {},
   "outputs": [],
   "source": [
    "# Load the labeled dataset\n",
    "data= pd.read_csv('amazonreviews.tsv', sep='\\t')\n",
    "\n",
    "# Initialize the Vader sentiment intensity analyzer\n",
    "vader = SentimentIntensityAnalyzer()\n",
    "\n",
    "# Create empty lists to store true labels and predicted labels\n",
    "true_labels = []\n",
    "predicted_labels = []\n",
    "\n",
    "# Iterate over each row in the dataset\n",
    "for index, row in data.iterrows():\n",
    "    text = row['review']\n",
    "    true_sentiment = row['label']\n",
    "    \n",
    "    # Get the predicted sentiment using the Vader model\n",
    "    scores = vader.polarity_scores(text)\n",
    "    predicted_sentiment = 'pos' if scores['compound'] >= 0 else 'neg'\n",
    "    \n",
    "    # Append the true and predicted labels to the respective lists\n",
    "    true_labels.append(true_sentiment)\n",
    "    predicted_labels.append(predicted_sentiment)\n",
    "\n",
    "\n"
   ]
  },
  {
   "cell_type": "code",
   "execution_count": 9,
   "id": "dfe6b053",
   "metadata": {},
   "outputs": [
    {
     "data": {
      "text/html": [
       "<style type=\"text/css\">\n",
       "#T_6d1ad_row0_col0, #T_6d1ad_row1_col1, #T_6d1ad_row1_col2, #T_6d1ad_row3_col3, #T_6d1ad_row4_col3 {\n",
       "  background-color: #008000;\n",
       "  color: #f1f1f1;\n",
       "}\n",
       "#T_6d1ad_row0_col1, #T_6d1ad_row0_col2, #T_6d1ad_row1_col0, #T_6d1ad_row2_col3 {\n",
       "  background-color: #ebf3eb;\n",
       "  color: #000000;\n",
       "}\n",
       "#T_6d1ad_row0_col3 {\n",
       "  background-color: #73b873;\n",
       "  color: #f1f1f1;\n",
       "}\n",
       "#T_6d1ad_row1_col3 {\n",
       "  background-color: #78bb78;\n",
       "  color: #f1f1f1;\n",
       "}\n",
       "#T_6d1ad_row2_col0 {\n",
       "  background-color: #a0cea0;\n",
       "  color: #000000;\n",
       "}\n",
       "#T_6d1ad_row2_col1, #T_6d1ad_row3_col1, #T_6d1ad_row4_col1 {\n",
       "  background-color: #78bb78;\n",
       "  color: #000000;\n",
       "}\n",
       "#T_6d1ad_row2_col2 {\n",
       "  background-color: #56aa56;\n",
       "  color: #f1f1f1;\n",
       "}\n",
       "#T_6d1ad_row3_col0, #T_6d1ad_row4_col0 {\n",
       "  background-color: #75b975;\n",
       "  color: #f1f1f1;\n",
       "}\n",
       "#T_6d1ad_row3_col2, #T_6d1ad_row4_col2 {\n",
       "  background-color: #6bb46b;\n",
       "  color: #f1f1f1;\n",
       "}\n",
       "</style>\n",
       "<table id=\"T_6d1ad\">\n",
       "  <thead>\n",
       "    <tr>\n",
       "      <th class=\"blank level0\" >&nbsp;</th>\n",
       "      <th id=\"T_6d1ad_level0_col0\" class=\"col_heading level0 col0\" >precision</th>\n",
       "      <th id=\"T_6d1ad_level0_col1\" class=\"col_heading level0 col1\" >recall</th>\n",
       "      <th id=\"T_6d1ad_level0_col2\" class=\"col_heading level0 col2\" >f1-score</th>\n",
       "      <th id=\"T_6d1ad_level0_col3\" class=\"col_heading level0 col3\" >support</th>\n",
       "    </tr>\n",
       "  </thead>\n",
       "  <tbody>\n",
       "    <tr>\n",
       "      <th id=\"T_6d1ad_level0_row0\" class=\"row_heading level0 row0\" >neg</th>\n",
       "      <td id=\"T_6d1ad_row0_col0\" class=\"data row0 col0\" >0.860000</td>\n",
       "      <td id=\"T_6d1ad_row0_col1\" class=\"data row0 col1\" >0.520000</td>\n",
       "      <td id=\"T_6d1ad_row0_col2\" class=\"data row0 col2\" >0.640000</td>\n",
       "      <td id=\"T_6d1ad_row0_col3\" class=\"data row0 col3\" >5097.000000</td>\n",
       "    </tr>\n",
       "    <tr>\n",
       "      <th id=\"T_6d1ad_level0_row1\" class=\"row_heading level0 row1\" >pos</th>\n",
       "      <td id=\"T_6d1ad_row1_col0\" class=\"data row1 col0\" >0.640000</td>\n",
       "      <td id=\"T_6d1ad_row1_col1\" class=\"data row1 col1\" >0.910000</td>\n",
       "      <td id=\"T_6d1ad_row1_col2\" class=\"data row1 col2\" >0.750000</td>\n",
       "      <td id=\"T_6d1ad_row1_col3\" class=\"data row1 col3\" >4903.000000</td>\n",
       "    </tr>\n",
       "    <tr>\n",
       "      <th id=\"T_6d1ad_level0_row2\" class=\"row_heading level0 row2\" >accuracy</th>\n",
       "      <td id=\"T_6d1ad_row2_col0\" class=\"data row2 col0\" >0.710000</td>\n",
       "      <td id=\"T_6d1ad_row2_col1\" class=\"data row2 col1\" >0.710000</td>\n",
       "      <td id=\"T_6d1ad_row2_col2\" class=\"data row2 col2\" >0.710000</td>\n",
       "      <td id=\"T_6d1ad_row2_col3\" class=\"data row2 col3\" >0.710000</td>\n",
       "    </tr>\n",
       "    <tr>\n",
       "      <th id=\"T_6d1ad_level0_row3\" class=\"row_heading level0 row3\" >macro avg</th>\n",
       "      <td id=\"T_6d1ad_row3_col0\" class=\"data row3 col0\" >0.750000</td>\n",
       "      <td id=\"T_6d1ad_row3_col1\" class=\"data row3 col1\" >0.710000</td>\n",
       "      <td id=\"T_6d1ad_row3_col2\" class=\"data row3 col2\" >0.700000</td>\n",
       "      <td id=\"T_6d1ad_row3_col3\" class=\"data row3 col3\" >10000.000000</td>\n",
       "    </tr>\n",
       "    <tr>\n",
       "      <th id=\"T_6d1ad_level0_row4\" class=\"row_heading level0 row4\" >weighted avg</th>\n",
       "      <td id=\"T_6d1ad_row4_col0\" class=\"data row4 col0\" >0.750000</td>\n",
       "      <td id=\"T_6d1ad_row4_col1\" class=\"data row4 col1\" >0.710000</td>\n",
       "      <td id=\"T_6d1ad_row4_col2\" class=\"data row4 col2\" >0.700000</td>\n",
       "      <td id=\"T_6d1ad_row4_col3\" class=\"data row4 col3\" >10000.000000</td>\n",
       "    </tr>\n",
       "  </tbody>\n",
       "</table>\n"
      ],
      "text/plain": [
       "<pandas.io.formats.style.Styler at 0x1f654d96950>"
      ]
     },
     "execution_count": 9,
     "metadata": {},
     "output_type": "execute_result"
    }
   ],
   "source": [
    "report = classification_report(true_labels,predicted_labels,output_dict=True)\n",
    "df_report = pd.DataFrame(report).transpose().round(2)\n",
    "cm = sns.light_palette(\"green\", as_cmap=True)\n",
    "df_report.style.background_gradient(cmap=cm)"
   ]
  },
  {
   "cell_type": "markdown",
   "id": "64a16695",
   "metadata": {},
   "source": [
    "# Analysis of the models "
   ]
  },
  {
   "cell_type": "markdown",
   "id": "7808779c",
   "metadata": {},
   "source": [
    "1.\tLogistic Regression Model  \n",
    "\n",
    "Logistic Regression is a statistical model that is commonly used for binary classification tasks. It is based on the concept of the logistic function, which maps input variables to a probability range between 0 and 1. In sentiment analysis, a logistic regression model can be trained on labeled data, where the input is the text or features of the text, and the output is the sentiment label (positive or negative). The model learns the relationships between the input features and the sentiment labels and makes predictions based on those relationships. \n",
    "\n",
    "Evaluation Metrics: To evaluate the performance of a logistic regression model for sentiment analysis, common evaluation metrics include accuracy, precision, recall, and F1 score. These metrics provide insights into the model's ability to correctly classify positive and negative sentiments. \n",
    "\n",
    "Accuracy: 85%  Precision: 87%  Recall: 85%  F1-score: 85%"
   ]
  },
  {
   "cell_type": "markdown",
   "id": "97133a7a",
   "metadata": {},
   "source": [
    "2.\tLinear SVC (Support Vector Classifier)\n",
    "\n",
    "Linear SVC is a variant of the Support Vector Machine (SVM) algorithm that is commonly used for binary classification tasks. SVMs aim to find a hyperplane that separates the data points of different classes with the largest margin. Linear SVC is particularly suitable for linearly separable data, where a straight line can effectively separate the classes.\n",
    "\n",
    "Evaluation Metrics: Similar to logistic regression, evaluation metrics such as accuracy, precision, recall, and F1 score can be used to assess the performance of a Linear SVC model for sentiment analysis. \n",
    "\n",
    "Accuracy: 87% Precision: 89% Recall: 87% F1-score: 88% "
   ]
  },
  {
   "cell_type": "markdown",
   "id": "66aead55",
   "metadata": {},
   "source": [
    "3. Vader's Model (VADER Sentiment Intensity Analyzer)\n",
    "\n",
    "VADER (Valence Aware Dictionary and sEntiment Reasoner) is a pre-trained rule-based model specifically designed for sentiment analysis of social media text. It utilizes a combination of lexical and grammatical heuristics to determine sentiment intensity. The model is specifically tuned to handle social media language nuances, including slang, emoticons, and capitalization.\n",
    "\n",
    "Evaluation Metrics: Evaluation metrics such as accuracy, precision, recall, and F1 score can still be used to assess the performance of the VADER model for sentiment analysis. However, it's important to note that rule-based models like VADER may have different strengths and weaknesses compared to supervised machine learning models. \n",
    "\n",
    "Accuracy: 70%  Precision: 64% Recall: 91% F1-score: 75% "
   ]
  },
  {
   "cell_type": "markdown",
   "id": "5ddab012",
   "metadata": {},
   "source": [
    "## Recommendation"
   ]
  },
  {
   "cell_type": "markdown",
   "id": "2de1af1c",
   "metadata": {},
   "source": [
    "The choice of the model depends on several factors including the specific requirements of the project, the nature of the data, and the desired trade-off between accuracy and computational efficiency. Considering the evaluation reports and computation time, I recommend evaluating the Logistic Regression and Linear SVC models on your dataset to compare their performance and suitability for your production deployment. These models offer more flexibility and can be fine-tuned to your specific data."
   ]
  },
  {
   "cell_type": "code",
   "execution_count": null,
   "id": "00c7b1a6",
   "metadata": {},
   "outputs": [],
   "source": []
  }
 ],
 "metadata": {
  "kernelspec": {
   "display_name": "Python 3 (ipykernel)",
   "language": "python",
   "name": "python3"
  },
  "language_info": {
   "codemirror_mode": {
    "name": "ipython",
    "version": 3
   },
   "file_extension": ".py",
   "mimetype": "text/x-python",
   "name": "python",
   "nbconvert_exporter": "python",
   "pygments_lexer": "ipython3",
   "version": "3.11.0"
  }
 },
 "nbformat": 4,
 "nbformat_minor": 5
}
